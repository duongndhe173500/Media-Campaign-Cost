{
  "cells": [
    {
      "cell_type": "code",
      "execution_count": 2,
      "metadata": {
        "colab": {
          "base_uri": "https://localhost:8080/"
        },
        "id": "L5W30GzquEMN",
        "outputId": "27174d6c-bf7f-4145-cca2-f7eb525a214d"
      },
      "outputs": [],
      "source": [
        "#!pip install catboost\n",
        "#!pip install xgboost"
      ]
    },
    {
      "cell_type": "code",
      "execution_count": 3,
      "metadata": {
        "_cell_guid": "b1076dfc-b9ad-4769-8c92-a6c4dae69d19",
        "_uuid": "8f2839f25d086af736a60e9eeb907d3b93b6e0e5",
        "execution": {
          "iopub.execute_input": "2023-10-06T04:30:32.233865Z",
          "iopub.status.busy": "2023-10-06T04:30:32.233216Z",
          "iopub.status.idle": "2023-10-06T04:30:36.879543Z",
          "shell.execute_reply": "2023-10-06T04:30:36.878335Z",
          "shell.execute_reply.started": "2023-10-06T04:30:32.233824Z"
        },
        "id": "MMKHYU0tx9YQ",
        "trusted": true
      },
      "outputs": [],
      "source": [
        "import numpy as np # linear algebra\n",
        "import pandas as pd # data processing, CSV file I/O (e.g. pd.read_csv)\n",
        "import matplotlib.pyplot as plt\n",
        "import seaborn as sns\n",
        "import plotly.express as px\n",
        "from plotly.subplots import make_subplots\n"
      ]
    },
    {
      "cell_type": "markdown",
      "metadata": {
        "id": "5jAz2ZxGW73O"
      },
      "source": [
        "## Import các modules và hàm từ thư viện scikit-learn\n",
        "1.   train_test_split: Dùng để chia dữ liệu thành tập huấn luyện và tập kiểm tra.\n",
        "2.   accuracy_score: Đánh giá độ chính xác cho bài toán phân loại.\n",
        "3.   mean_squared_error, mean_squared_log_error: Đánh giá hiệu suất cho bài toán regression.\n",
        "4.   RandomizedSearchCV: Sử dụng để tìm kiếm siêu tham số trong một không gian tham số.\n",
        "5.   make_scorer: Tạo một hàm đánh giá được tùy chỉnh.\n",
        "6.   FunctionTransformer: Áp dụng các hàm biến đổi tùy chỉnh cho dữ liệu.\n",
        "7.   RandomForestRegressor, GradientBoostingRegressor: Mô hình học máy sử dụng trong bài toán regression."
      ]
    },
    {
      "cell_type": "code",
      "execution_count": 4,
      "metadata": {
        "id": "IxI7IBsIW5wT"
      },
      "outputs": [],
      "source": [
        "from sklearn.model_selection import train_test_split\n",
        "from sklearn.metrics import accuracy_score, mean_squared_error, mean_squared_log_error\n",
        "from sklearn.model_selection import RandomizedSearchCV\n",
        "from sklearn.metrics import make_scorer\n",
        "from sklearn.preprocessing import FunctionTransformer\n",
        "from sklearn.ensemble import RandomForestRegressor, GradientBoostingRegressor"
      ]
    },
    {
      "cell_type": "markdown",
      "metadata": {
        "id": "qkFa2MqCW9BA"
      },
      "source": [
        "## Import các thư viện machine learning khác\n",
        "1.   xgboost: Thư viện gradient boosting hiệu suất cao.\n",
        "2.   CatBoostRegressor: Thư viện gradient boosting có khả năng tự xử lý dữ liệu hạng mục.\n",
        "3.   RandomForestRegressor: Mô hình RandomForest cho bài toán regression."
      ]
    },
    {
      "cell_type": "code",
      "execution_count": 5,
      "metadata": {
        "id": "3L8NYqftW9KK"
      },
      "outputs": [],
      "source": [
        "import xgboost as xgb\n",
        "from catboost import CatBoostRegressor\n",
        "from sklearn.ensemble import RandomForestRegressor"
      ]
    },
    {
      "cell_type": "markdown",
      "metadata": {
        "id": "7SwYkI96Y-Vx"
      },
      "source": [
        "## Đọc Dữ liệu\n",
        "Sau khi thực hiện dòng mã này, bạn sẽ có hai biến train và test là hai DataFrame chứa dữ liệu từ tập huấn luyện và tập kiểm tra tương ứng. Đối tượng DataFrame trong pandas là một biểu diễn mạnh mẽ cho dữ liệu dạng bảng với nhiều tính năng hữu ích để thực hiện các phép xử lý và phân tích dữ liệu."
      ]
    },
    {
      "cell_type": "code",
      "execution_count": 7,
      "metadata": {
        "execution": {
          "iopub.execute_input": "2023-10-06T04:30:36.882497Z",
          "iopub.status.busy": "2023-10-06T04:30:36.881420Z",
          "iopub.status.idle": "2023-10-06T04:30:38.603016Z",
          "shell.execute_reply": "2023-10-06T04:30:38.601654Z",
          "shell.execute_reply.started": "2023-10-06T04:30:36.882462Z"
        },
        "id": "SCaWh2FCx9YS",
        "trusted": true
      },
      "outputs": [],
      "source": [
        "train = pd.read_csv('train_dataset.csv')\n",
        "test = pd.read_csv('test_dataset.csv')\n",
        "\n",
        "train.insert(0, 'id', range(1, len(train) + 1))\n",
        "test.insert(0, 'id', range(1, len(test) + 1))"
      ]
    },
    {
      "cell_type": "markdown",
      "metadata": {
        "id": "bfED8SmlZKd8"
      },
      "source": [
        "## Trực Quan Bảng\n",
        "\n",
        "Dòng mã train.head() được sử dụng để hiển thị năm dòng đầu tiên của DataFrame train. Phương thức head() trong pandas được sử dụng để xem các hàng đầu tiên của DataFrame, giúp ta nhanh chóng có cái nhìn tổng quan về dữ liệu. Dưới đây là một ví dụ về cách dòng mã này hoạt động"
      ]
    },
    {
      "cell_type": "code",
      "execution_count": 8,
      "metadata": {
        "colab": {
          "base_uri": "https://localhost:8080/",
          "height": 224
        },
        "execution": {
          "iopub.execute_input": "2023-10-06T04:30:38.604743Z",
          "iopub.status.busy": "2023-10-06T04:30:38.604425Z",
          "iopub.status.idle": "2023-10-06T04:30:38.640909Z",
          "shell.execute_reply": "2023-10-06T04:30:38.639478Z",
          "shell.execute_reply.started": "2023-10-06T04:30:38.604717Z"
        },
        "id": "FLNA_2rux9YS",
        "outputId": "ef21beeb-fb58-4e54-e049-46f616a207e8",
        "trusted": true
      },
      "outputs": [
        {
          "data": {
            "text/plain": [
              "id                              int64\n",
              "store_sales(in millions)      float64\n",
              "unit_sales(in millions)       float64\n",
              "total_children                float64\n",
              "num_children_at_home          float64\n",
              "avg_cars_at home(approx).1    float64\n",
              "gross_weight                  float64\n",
              "recyclable_package            float64\n",
              "low_fat                       float64\n",
              "units_per_case                float64\n",
              "store_sqft                    float64\n",
              "coffee_bar                    float64\n",
              "video_store                   float64\n",
              "salad_bar                     float64\n",
              "prepared_food                 float64\n",
              "florist                       float64\n",
              "cost                          float64\n",
              "dtype: object"
            ]
          },
          "execution_count": 8,
          "metadata": {},
          "output_type": "execute_result"
        }
      ],
      "source": [
        "train.head()\n",
        "train.dtypes"
      ]
    },
    {
      "cell_type": "markdown",
      "metadata": {
        "id": "n3qOOgn_ZShE"
      },
      "source": [
        "Dòng mã train.describe() được sử dụng để tạo một bảng thống kê mô tả của DataFrame train. Phương thức describe() trong pandas cung cấp các thống kê tổng quan về các đặc trưng số của dữ liệu như số lượng, trung bình, phương sai, giá trị tối thiểu, giá trị tối đa và các phần centile khác."
      ]
    },
    {
      "cell_type": "code",
      "execution_count": 9,
      "metadata": {
        "colab": {
          "base_uri": "https://localhost:8080/",
          "height": 338
        },
        "execution": {
          "iopub.execute_input": "2023-10-01T08:33:31.808457Z",
          "iopub.status.busy": "2023-10-01T08:33:31.807959Z",
          "iopub.status.idle": "2023-10-01T08:33:32.064913Z",
          "shell.execute_reply": "2023-10-01T08:33:32.063886Z",
          "shell.execute_reply.started": "2023-10-01T08:33:31.808429Z"
        },
        "id": "TdGsD58ux9YT",
        "outputId": "81835ed4-ba14-4657-b5df-9b2c2da1cbe9",
        "trusted": true
      },
      "outputs": [
        {
          "data": {
            "text/html": [
              "<div>\n",
              "<style scoped>\n",
              "    .dataframe tbody tr th:only-of-type {\n",
              "        vertical-align: middle;\n",
              "    }\n",
              "\n",
              "    .dataframe tbody tr th {\n",
              "        vertical-align: top;\n",
              "    }\n",
              "\n",
              "    .dataframe thead th {\n",
              "        text-align: right;\n",
              "    }\n",
              "</style>\n",
              "<table border=\"1\" class=\"dataframe\">\n",
              "  <thead>\n",
              "    <tr style=\"text-align: right;\">\n",
              "      <th></th>\n",
              "      <th>id</th>\n",
              "      <th>store_sales(in millions)</th>\n",
              "      <th>unit_sales(in millions)</th>\n",
              "      <th>total_children</th>\n",
              "      <th>num_children_at_home</th>\n",
              "      <th>avg_cars_at home(approx).1</th>\n",
              "      <th>gross_weight</th>\n",
              "      <th>recyclable_package</th>\n",
              "      <th>low_fat</th>\n",
              "      <th>units_per_case</th>\n",
              "      <th>store_sqft</th>\n",
              "      <th>coffee_bar</th>\n",
              "      <th>video_store</th>\n",
              "      <th>salad_bar</th>\n",
              "      <th>prepared_food</th>\n",
              "      <th>florist</th>\n",
              "      <th>cost</th>\n",
              "    </tr>\n",
              "  </thead>\n",
              "  <tbody>\n",
              "    <tr>\n",
              "      <th>count</th>\n",
              "      <td>51363.000000</td>\n",
              "      <td>51363.000000</td>\n",
              "      <td>51363.000000</td>\n",
              "      <td>51363.000000</td>\n",
              "      <td>51363.000000</td>\n",
              "      <td>51363.000000</td>\n",
              "      <td>51363.000000</td>\n",
              "      <td>51363.000000</td>\n",
              "      <td>51363.000000</td>\n",
              "      <td>51363.000000</td>\n",
              "      <td>51363.000000</td>\n",
              "      <td>51363.000000</td>\n",
              "      <td>51363.000000</td>\n",
              "      <td>51363.000000</td>\n",
              "      <td>51363.000000</td>\n",
              "      <td>51363.000000</td>\n",
              "      <td>51363.000000</td>\n",
              "    </tr>\n",
              "    <tr>\n",
              "      <th>mean</th>\n",
              "      <td>25682.000000</td>\n",
              "      <td>6.531792</td>\n",
              "      <td>3.091194</td>\n",
              "      <td>2.538111</td>\n",
              "      <td>0.832019</td>\n",
              "      <td>2.199424</td>\n",
              "      <td>13.805512</td>\n",
              "      <td>0.558437</td>\n",
              "      <td>0.351148</td>\n",
              "      <td>18.856550</td>\n",
              "      <td>27979.153593</td>\n",
              "      <td>0.612367</td>\n",
              "      <td>0.353776</td>\n",
              "      <td>0.588011</td>\n",
              "      <td>0.588011</td>\n",
              "      <td>0.561825</td>\n",
              "      <td>99.327064</td>\n",
              "    </tr>\n",
              "    <tr>\n",
              "      <th>std</th>\n",
              "      <td>14827.365275</td>\n",
              "      <td>3.464902</td>\n",
              "      <td>0.827293</td>\n",
              "      <td>1.489316</td>\n",
              "      <td>1.303775</td>\n",
              "      <td>1.109080</td>\n",
              "      <td>4.622431</td>\n",
              "      <td>0.496578</td>\n",
              "      <td>0.477334</td>\n",
              "      <td>10.263746</td>\n",
              "      <td>5701.145280</td>\n",
              "      <td>0.487215</td>\n",
              "      <td>0.478145</td>\n",
              "      <td>0.492198</td>\n",
              "      <td>0.492198</td>\n",
              "      <td>0.496168</td>\n",
              "      <td>30.023458</td>\n",
              "    </tr>\n",
              "    <tr>\n",
              "      <th>min</th>\n",
              "      <td>1.000000</td>\n",
              "      <td>0.510000</td>\n",
              "      <td>1.000000</td>\n",
              "      <td>0.000000</td>\n",
              "      <td>0.000000</td>\n",
              "      <td>0.000000</td>\n",
              "      <td>6.000000</td>\n",
              "      <td>0.000000</td>\n",
              "      <td>0.000000</td>\n",
              "      <td>1.000000</td>\n",
              "      <td>20319.000000</td>\n",
              "      <td>0.000000</td>\n",
              "      <td>0.000000</td>\n",
              "      <td>0.000000</td>\n",
              "      <td>0.000000</td>\n",
              "      <td>0.000000</td>\n",
              "      <td>50.790000</td>\n",
              "    </tr>\n",
              "    <tr>\n",
              "      <th>25%</th>\n",
              "      <td>12841.500000</td>\n",
              "      <td>3.800000</td>\n",
              "      <td>3.000000</td>\n",
              "      <td>1.000000</td>\n",
              "      <td>0.000000</td>\n",
              "      <td>1.000000</td>\n",
              "      <td>9.700000</td>\n",
              "      <td>0.000000</td>\n",
              "      <td>0.000000</td>\n",
              "      <td>10.000000</td>\n",
              "      <td>23593.000000</td>\n",
              "      <td>0.000000</td>\n",
              "      <td>0.000000</td>\n",
              "      <td>0.000000</td>\n",
              "      <td>0.000000</td>\n",
              "      <td>0.000000</td>\n",
              "      <td>69.650000</td>\n",
              "    </tr>\n",
              "    <tr>\n",
              "      <th>50%</th>\n",
              "      <td>25682.000000</td>\n",
              "      <td>5.940000</td>\n",
              "      <td>3.000000</td>\n",
              "      <td>3.000000</td>\n",
              "      <td>0.000000</td>\n",
              "      <td>2.000000</td>\n",
              "      <td>13.600000</td>\n",
              "      <td>1.000000</td>\n",
              "      <td>0.000000</td>\n",
              "      <td>19.000000</td>\n",
              "      <td>27694.000000</td>\n",
              "      <td>1.000000</td>\n",
              "      <td>0.000000</td>\n",
              "      <td>1.000000</td>\n",
              "      <td>1.000000</td>\n",
              "      <td>1.000000</td>\n",
              "      <td>98.520000</td>\n",
              "    </tr>\n",
              "    <tr>\n",
              "      <th>75%</th>\n",
              "      <td>38522.500000</td>\n",
              "      <td>8.640000</td>\n",
              "      <td>4.000000</td>\n",
              "      <td>4.000000</td>\n",
              "      <td>1.000000</td>\n",
              "      <td>3.000000</td>\n",
              "      <td>17.700000</td>\n",
              "      <td>1.000000</td>\n",
              "      <td>1.000000</td>\n",
              "      <td>28.000000</td>\n",
              "      <td>30797.000000</td>\n",
              "      <td>1.000000</td>\n",
              "      <td>1.000000</td>\n",
              "      <td>1.000000</td>\n",
              "      <td>1.000000</td>\n",
              "      <td>1.000000</td>\n",
              "      <td>126.620000</td>\n",
              "    </tr>\n",
              "    <tr>\n",
              "      <th>max</th>\n",
              "      <td>51363.000000</td>\n",
              "      <td>22.920000</td>\n",
              "      <td>6.000000</td>\n",
              "      <td>5.000000</td>\n",
              "      <td>5.000000</td>\n",
              "      <td>4.000000</td>\n",
              "      <td>21.900000</td>\n",
              "      <td>1.000000</td>\n",
              "      <td>1.000000</td>\n",
              "      <td>36.000000</td>\n",
              "      <td>39696.000000</td>\n",
              "      <td>1.000000</td>\n",
              "      <td>1.000000</td>\n",
              "      <td>1.000000</td>\n",
              "      <td>1.000000</td>\n",
              "      <td>1.000000</td>\n",
              "      <td>149.750000</td>\n",
              "    </tr>\n",
              "  </tbody>\n",
              "</table>\n",
              "</div>"
            ],
            "text/plain": [
              "                 id  store_sales(in millions)  unit_sales(in millions)  \\\n",
              "count  51363.000000              51363.000000             51363.000000   \n",
              "mean   25682.000000                  6.531792                 3.091194   \n",
              "std    14827.365275                  3.464902                 0.827293   \n",
              "min        1.000000                  0.510000                 1.000000   \n",
              "25%    12841.500000                  3.800000                 3.000000   \n",
              "50%    25682.000000                  5.940000                 3.000000   \n",
              "75%    38522.500000                  8.640000                 4.000000   \n",
              "max    51363.000000                 22.920000                 6.000000   \n",
              "\n",
              "       total_children  num_children_at_home  avg_cars_at home(approx).1  \\\n",
              "count    51363.000000          51363.000000                51363.000000   \n",
              "mean         2.538111              0.832019                    2.199424   \n",
              "std          1.489316              1.303775                    1.109080   \n",
              "min          0.000000              0.000000                    0.000000   \n",
              "25%          1.000000              0.000000                    1.000000   \n",
              "50%          3.000000              0.000000                    2.000000   \n",
              "75%          4.000000              1.000000                    3.000000   \n",
              "max          5.000000              5.000000                    4.000000   \n",
              "\n",
              "       gross_weight  recyclable_package       low_fat  units_per_case  \\\n",
              "count  51363.000000        51363.000000  51363.000000    51363.000000   \n",
              "mean      13.805512            0.558437      0.351148       18.856550   \n",
              "std        4.622431            0.496578      0.477334       10.263746   \n",
              "min        6.000000            0.000000      0.000000        1.000000   \n",
              "25%        9.700000            0.000000      0.000000       10.000000   \n",
              "50%       13.600000            1.000000      0.000000       19.000000   \n",
              "75%       17.700000            1.000000      1.000000       28.000000   \n",
              "max       21.900000            1.000000      1.000000       36.000000   \n",
              "\n",
              "         store_sqft    coffee_bar   video_store     salad_bar  prepared_food  \\\n",
              "count  51363.000000  51363.000000  51363.000000  51363.000000   51363.000000   \n",
              "mean   27979.153593      0.612367      0.353776      0.588011       0.588011   \n",
              "std     5701.145280      0.487215      0.478145      0.492198       0.492198   \n",
              "min    20319.000000      0.000000      0.000000      0.000000       0.000000   \n",
              "25%    23593.000000      0.000000      0.000000      0.000000       0.000000   \n",
              "50%    27694.000000      1.000000      0.000000      1.000000       1.000000   \n",
              "75%    30797.000000      1.000000      1.000000      1.000000       1.000000   \n",
              "max    39696.000000      1.000000      1.000000      1.000000       1.000000   \n",
              "\n",
              "            florist          cost  \n",
              "count  51363.000000  51363.000000  \n",
              "mean       0.561825     99.327064  \n",
              "std        0.496168     30.023458  \n",
              "min        0.000000     50.790000  \n",
              "25%        0.000000     69.650000  \n",
              "50%        1.000000     98.520000  \n",
              "75%        1.000000    126.620000  \n",
              "max        1.000000    149.750000  "
            ]
          },
          "execution_count": 9,
          "metadata": {},
          "output_type": "execute_result"
        }
      ],
      "source": [
        "train.describe()"
      ]
    },
    {
      "cell_type": "code",
      "execution_count": 13,
      "metadata": {},
      "outputs": [
        {
          "data": {
            "text/html": [
              "<div>\n",
              "<style scoped>\n",
              "    .dataframe tbody tr th:only-of-type {\n",
              "        vertical-align: middle;\n",
              "    }\n",
              "\n",
              "    .dataframe tbody tr th {\n",
              "        vertical-align: top;\n",
              "    }\n",
              "\n",
              "    .dataframe thead th {\n",
              "        text-align: right;\n",
              "    }\n",
              "</style>\n",
              "<table border=\"1\" class=\"dataframe\">\n",
              "  <thead>\n",
              "    <tr style=\"text-align: right;\">\n",
              "      <th></th>\n",
              "      <th>id</th>\n",
              "      <th>store_sales(in millions)</th>\n",
              "      <th>unit_sales(in millions)</th>\n",
              "      <th>total_children</th>\n",
              "      <th>num_children_at_home</th>\n",
              "      <th>avg_cars_at home(approx).1</th>\n",
              "      <th>gross_weight</th>\n",
              "      <th>recyclable_package</th>\n",
              "      <th>low_fat</th>\n",
              "      <th>units_per_case</th>\n",
              "      <th>store_sqft</th>\n",
              "      <th>coffee_bar</th>\n",
              "      <th>video_store</th>\n",
              "      <th>salad_bar</th>\n",
              "      <th>prepared_food</th>\n",
              "      <th>florist</th>\n",
              "    </tr>\n",
              "  </thead>\n",
              "  <tbody>\n",
              "    <tr>\n",
              "      <th>count</th>\n",
              "      <td>9065.000000</td>\n",
              "      <td>9065.000000</td>\n",
              "      <td>9065.000000</td>\n",
              "      <td>9065.000000</td>\n",
              "      <td>9065.000000</td>\n",
              "      <td>9065.000000</td>\n",
              "      <td>9065.000000</td>\n",
              "      <td>9065.000000</td>\n",
              "      <td>9065.000000</td>\n",
              "      <td>9065.000000</td>\n",
              "      <td>9065.000000</td>\n",
              "      <td>9065.000000</td>\n",
              "      <td>9065.000000</td>\n",
              "      <td>9065.000000</td>\n",
              "      <td>9065.000000</td>\n",
              "      <td>9065.000000</td>\n",
              "    </tr>\n",
              "    <tr>\n",
              "      <th>mean</th>\n",
              "      <td>4533.000000</td>\n",
              "      <td>6.593380</td>\n",
              "      <td>3.104357</td>\n",
              "      <td>2.509873</td>\n",
              "      <td>0.814231</td>\n",
              "      <td>2.205074</td>\n",
              "      <td>13.811654</td>\n",
              "      <td>0.559956</td>\n",
              "      <td>0.346387</td>\n",
              "      <td>18.884170</td>\n",
              "      <td>28041.307446</td>\n",
              "      <td>0.614231</td>\n",
              "      <td>0.356315</td>\n",
              "      <td>0.587645</td>\n",
              "      <td>0.587645</td>\n",
              "      <td>0.567016</td>\n",
              "    </tr>\n",
              "    <tr>\n",
              "      <th>std</th>\n",
              "      <td>2616.984429</td>\n",
              "      <td>3.452237</td>\n",
              "      <td>0.829806</td>\n",
              "      <td>1.494819</td>\n",
              "      <td>1.301400</td>\n",
              "      <td>1.112879</td>\n",
              "      <td>4.624430</td>\n",
              "      <td>0.496420</td>\n",
              "      <td>0.475845</td>\n",
              "      <td>10.229625</td>\n",
              "      <td>5700.350448</td>\n",
              "      <td>0.486803</td>\n",
              "      <td>0.478936</td>\n",
              "      <td>0.492286</td>\n",
              "      <td>0.492286</td>\n",
              "      <td>0.495516</td>\n",
              "    </tr>\n",
              "    <tr>\n",
              "      <th>min</th>\n",
              "      <td>1.000000</td>\n",
              "      <td>0.510000</td>\n",
              "      <td>1.000000</td>\n",
              "      <td>0.000000</td>\n",
              "      <td>0.000000</td>\n",
              "      <td>0.000000</td>\n",
              "      <td>6.000000</td>\n",
              "      <td>0.000000</td>\n",
              "      <td>0.000000</td>\n",
              "      <td>1.000000</td>\n",
              "      <td>20319.000000</td>\n",
              "      <td>0.000000</td>\n",
              "      <td>0.000000</td>\n",
              "      <td>0.000000</td>\n",
              "      <td>0.000000</td>\n",
              "      <td>0.000000</td>\n",
              "    </tr>\n",
              "    <tr>\n",
              "      <th>25%</th>\n",
              "      <td>2267.000000</td>\n",
              "      <td>3.880000</td>\n",
              "      <td>3.000000</td>\n",
              "      <td>1.000000</td>\n",
              "      <td>0.000000</td>\n",
              "      <td>1.000000</td>\n",
              "      <td>9.710000</td>\n",
              "      <td>0.000000</td>\n",
              "      <td>0.000000</td>\n",
              "      <td>10.000000</td>\n",
              "      <td>23593.000000</td>\n",
              "      <td>0.000000</td>\n",
              "      <td>0.000000</td>\n",
              "      <td>0.000000</td>\n",
              "      <td>0.000000</td>\n",
              "      <td>0.000000</td>\n",
              "    </tr>\n",
              "    <tr>\n",
              "      <th>50%</th>\n",
              "      <td>4533.000000</td>\n",
              "      <td>5.970000</td>\n",
              "      <td>3.000000</td>\n",
              "      <td>3.000000</td>\n",
              "      <td>0.000000</td>\n",
              "      <td>2.000000</td>\n",
              "      <td>13.600000</td>\n",
              "      <td>1.000000</td>\n",
              "      <td>0.000000</td>\n",
              "      <td>20.000000</td>\n",
              "      <td>27694.000000</td>\n",
              "      <td>1.000000</td>\n",
              "      <td>0.000000</td>\n",
              "      <td>1.000000</td>\n",
              "      <td>1.000000</td>\n",
              "      <td>1.000000</td>\n",
              "    </tr>\n",
              "    <tr>\n",
              "      <th>75%</th>\n",
              "      <td>6799.000000</td>\n",
              "      <td>8.790000</td>\n",
              "      <td>4.000000</td>\n",
              "      <td>4.000000</td>\n",
              "      <td>1.000000</td>\n",
              "      <td>3.000000</td>\n",
              "      <td>17.800000</td>\n",
              "      <td>1.000000</td>\n",
              "      <td>1.000000</td>\n",
              "      <td>28.000000</td>\n",
              "      <td>30797.000000</td>\n",
              "      <td>1.000000</td>\n",
              "      <td>1.000000</td>\n",
              "      <td>1.000000</td>\n",
              "      <td>1.000000</td>\n",
              "      <td>1.000000</td>\n",
              "    </tr>\n",
              "    <tr>\n",
              "      <th>max</th>\n",
              "      <td>9065.000000</td>\n",
              "      <td>19.750000</td>\n",
              "      <td>6.000000</td>\n",
              "      <td>5.000000</td>\n",
              "      <td>5.000000</td>\n",
              "      <td>4.000000</td>\n",
              "      <td>21.900000</td>\n",
              "      <td>1.000000</td>\n",
              "      <td>1.000000</td>\n",
              "      <td>36.000000</td>\n",
              "      <td>39696.000000</td>\n",
              "      <td>1.000000</td>\n",
              "      <td>1.000000</td>\n",
              "      <td>1.000000</td>\n",
              "      <td>1.000000</td>\n",
              "      <td>1.000000</td>\n",
              "    </tr>\n",
              "  </tbody>\n",
              "</table>\n",
              "</div>"
            ],
            "text/plain": [
              "                id  store_sales(in millions)  unit_sales(in millions)  \\\n",
              "count  9065.000000               9065.000000              9065.000000   \n",
              "mean   4533.000000                  6.593380                 3.104357   \n",
              "std    2616.984429                  3.452237                 0.829806   \n",
              "min       1.000000                  0.510000                 1.000000   \n",
              "25%    2267.000000                  3.880000                 3.000000   \n",
              "50%    4533.000000                  5.970000                 3.000000   \n",
              "75%    6799.000000                  8.790000                 4.000000   \n",
              "max    9065.000000                 19.750000                 6.000000   \n",
              "\n",
              "       total_children  num_children_at_home  avg_cars_at home(approx).1  \\\n",
              "count     9065.000000           9065.000000                 9065.000000   \n",
              "mean         2.509873              0.814231                    2.205074   \n",
              "std          1.494819              1.301400                    1.112879   \n",
              "min          0.000000              0.000000                    0.000000   \n",
              "25%          1.000000              0.000000                    1.000000   \n",
              "50%          3.000000              0.000000                    2.000000   \n",
              "75%          4.000000              1.000000                    3.000000   \n",
              "max          5.000000              5.000000                    4.000000   \n",
              "\n",
              "       gross_weight  recyclable_package      low_fat  units_per_case  \\\n",
              "count   9065.000000         9065.000000  9065.000000     9065.000000   \n",
              "mean      13.811654            0.559956     0.346387       18.884170   \n",
              "std        4.624430            0.496420     0.475845       10.229625   \n",
              "min        6.000000            0.000000     0.000000        1.000000   \n",
              "25%        9.710000            0.000000     0.000000       10.000000   \n",
              "50%       13.600000            1.000000     0.000000       20.000000   \n",
              "75%       17.800000            1.000000     1.000000       28.000000   \n",
              "max       21.900000            1.000000     1.000000       36.000000   \n",
              "\n",
              "         store_sqft   coffee_bar  video_store    salad_bar  prepared_food  \\\n",
              "count   9065.000000  9065.000000  9065.000000  9065.000000    9065.000000   \n",
              "mean   28041.307446     0.614231     0.356315     0.587645       0.587645   \n",
              "std     5700.350448     0.486803     0.478936     0.492286       0.492286   \n",
              "min    20319.000000     0.000000     0.000000     0.000000       0.000000   \n",
              "25%    23593.000000     0.000000     0.000000     0.000000       0.000000   \n",
              "50%    27694.000000     1.000000     0.000000     1.000000       1.000000   \n",
              "75%    30797.000000     1.000000     1.000000     1.000000       1.000000   \n",
              "max    39696.000000     1.000000     1.000000     1.000000       1.000000   \n",
              "\n",
              "           florist  \n",
              "count  9065.000000  \n",
              "mean      0.567016  \n",
              "std       0.495516  \n",
              "min       0.000000  \n",
              "25%       0.000000  \n",
              "50%       1.000000  \n",
              "75%       1.000000  \n",
              "max       1.000000  "
            ]
          },
          "execution_count": 13,
          "metadata": {},
          "output_type": "execute_result"
        }
      ],
      "source": [
        "test.describe()"
      ]
    },
    {
      "cell_type": "markdown",
      "metadata": {
        "id": "SYEwbPGeZc8_"
      },
      "source": [
        "## Rút Đặc Trưng\n",
        "Dòng mã này thực hiện việc tách dữ liệu thành các đặc trưng (features) và biến mục tiêu (target variable) cũng như hiển thị kích thước."
      ]
    },
    {
      "cell_type": "code",
      "execution_count": 12,
      "metadata": {},
      "outputs": [
        {
          "data": {
            "image/png": "[encoded data removed]",
            "text/plain": [
              "<Figure size 1200x1000 with 2 Axes>"
            ]
          },
          "metadata": {},
          "output_type": "display_data"
        }
      ],
      "source": [
        "sns.set()\n",
        "\n",
        "corr_matrix = train.corr()\n",
        "\n",
        "plt.figure(figsize=(12, 10))\n",
        "sns.heatmap(corr_matrix, annot=True, cmap='coolwarm', fmt=\".2f\")\n",
        "plt.title('Correlation Heatmap')\n",
        "plt.show()"
      ]
    },
    {
      "cell_type": "code",
      "execution_count": null,
      "metadata": {
        "colab": {
          "base_uri": "https://localhost:8080/"
        },
        "execution": {
          "iopub.execute_input": "2023-10-06T04:38:35.418030Z",
          "iopub.status.busy": "2023-10-06T04:38:35.417073Z",
          "iopub.status.idle": "2023-10-06T04:38:35.452973Z",
          "shell.execute_reply": "2023-10-06T04:38:35.451454Z",
          "shell.execute_reply.started": "2023-10-06T04:38:35.417969Z"
        },
        "id": "BLs0KmiVx9YT",
        "outputId": "3a2bd0da-8080-454e-f14e-9e9d6666371d",
        "trusted": true
      },
      "outputs": [
        {
          "data": {
            "text/plain": [
              "((51363, 16), (51363,))"
            ]
          },
          "execution_count": 8,
          "metadata": {},
          "output_type": "execute_result"
        }
      ],
      "source": [
        "# Extract features (X) by excluding the last column\n",
        "X = train.iloc[:, :-1]\n",
        "# Extract the target variable (Y) as the last column\n",
        "Y = train.iloc[:, -1]\n",
        "\n",
        "X.shape, Y.shape"
      ]
    },
    {
      "cell_type": "markdown",
      "metadata": {
        "id": "A4fpydfyabgw"
      },
      "source": [
        "##Sử dụng mô hình GradientBoostingRegressor\n",
        "Đoạn mã này sử dụng mô hình GradientBoostingRegressor từ thư viện scikit-learn để đào tạo mô hình và sau đó trích xuất các đặc trưng quan trọng.\n",
        "1.  Tạo và Đào Tạo Mô Hình Gradient Boosting\n",
        "2.  Trích Xuất Đặc Trưng Quan Trọng\n",
        "gbm.feature_importances_: Thuộc tính của mô hình Gradient Boosting, cung cấp thông tin về độ quan trọng của từng đặc trưng.\n",
        "3.  Chọn Top 8 Đặc Trưng Quan Trọng\n",
        "  * pd.Series(importances_gbm, index=X.columns): Tạo một Series pandas với đặc trưng là giá trị quan trọng và chỉ số là tên của các đặc trưng.\n",
        "  * .nlargest(8): Chọn 8 đặc trưng có giá trị quan trọng lớn nhất.\n",
        "  * .index.tolist(): Chuyển đổi chỉ số thành danh sách, đưa ra tên của 8 đặc trưng quan trọng nhất.\n",
        "4.  In Ra Các Đặc Trưng Quan Trọng"
      ]
    },
    {
      "cell_type": "code",
      "execution_count": null,
      "metadata": {
        "colab": {
          "base_uri": "https://localhost:8080/"
        },
        "execution": {
          "iopub.execute_input": "2023-10-06T04:39:10.576004Z",
          "iopub.status.busy": "2023-10-06T04:39:10.575573Z",
          "iopub.status.idle": "2023-10-06T04:40:35.592399Z",
          "shell.execute_reply": "2023-10-06T04:40:35.590139Z",
          "shell.execute_reply.started": "2023-10-06T04:39:10.575957Z"
        },
        "id": "BZi7s-2jx9YT",
        "outputId": "a52afc4a-a08e-4bfa-e458-6f12cd57122d",
        "trusted": true
      },
      "outputs": [
        {
          "name": "stdout",
          "output_type": "stream",
          "text": [
            "Top 8 features from GradientBoostingRegressor: ['store_sqft', 'video_store', 'id', 'total_children', 'avg_cars_at home(approx).1', 'store_sales(in millions)', 'prepared_food', 'num_children_at_home']\n"
          ]
        }
      ],
      "source": [
        "gbm = GradientBoostingRegressor()\n",
        "gbm.fit(X, Y)\n",
        "\n",
        "importances_gbm = gbm.feature_importances_\n",
        "\n",
        "top_features_gbm = pd.Series(importances_gbm, index=X.columns).nlargest(8).index.tolist()\n",
        "print(\"Top 8 features from GradientBoostingRegressor:\", top_features_gbm)"
      ]
    },
    {
      "cell_type": "markdown",
      "metadata": {
        "id": "2AN1TNeKbTQc"
      },
      "source": [
        "## Hàm preprocess(df) để tiền xử lý dữ liệu.\n",
        "1.   most_important_features: Là một danh sách chứa tên của các đặc trưng quan trọng được chọn trước đó (từ mô hình Gradient Boosting).\n",
        "2.   df = df.copy(): Tạo một bản sao của DataFrame để không làm thay đổi dữ liệu gốc.\n",
        "3. df['store_sqft'] = df['store_sqft'].astype('category'): Chuyển cột 'store_sqft' thành kiểu dữ liệu categorical.\n",
        "4. df['salad'] = (df['salad_bar'] + df['prepared_food']) / 2: Tạo một cột mới 'salad' bằng cách lấy giá trị trung bình của 'salad_bar' và 'prepared_food'.\n",
        "5. df['log_cost'] = np.log1p(df['cost']): Tạo một cột mới 'log_cost' bằng cách áp dụng hàm log(1 + x) cho cột 'cost'.\n",
        "6. return df: Trả về DataFrame đã được xử lý."
      ]
    },
    {
      "cell_type": "code",
      "execution_count": null,
      "metadata": {
        "execution": {
          "iopub.execute_input": "2023-10-06T05:00:51.660401Z",
          "iopub.status.busy": "2023-10-06T05:00:51.659181Z",
          "iopub.status.idle": "2023-10-06T05:00:51.668636Z",
          "shell.execute_reply": "2023-10-06T05:00:51.667231Z",
          "shell.execute_reply.started": "2023-10-06T05:00:51.660225Z"
        },
        "id": "hfUZJTLFx9YT",
        "trusted": true
      },
      "outputs": [],
      "source": [
        "most_important_features = ['store_sqft', 'video_store', 'total_children', \n",
        "                           'store_sales(in millions)', 'avg_cars_at home(approx).1', \n",
        "                           'salad_bar', 'gross_weight', 'num_children_at_home']\n",
        "\n",
        "def preprocess(df):\n",
        "    df = df.copy()\n",
        "    df['store_sqft'] = df['store_sqft'].astype('category')\n",
        "    df['salad'] = (df['salad_bar'] + df['prepared_food']) / 2\n",
        "\n",
        "    if 'cost' in df.columns:\n",
        "        df['log_cost'] = np.log1p(df['cost'])\n",
        "    else:\n",
        "        # If 'cost' is not present, you can handle it as needed\n",
        "        print(\"Warning: 'cost' column not found. 'log_cost' will not be calculated.\")\n",
        "        df['log_cost'] = np.nan  # or any other value you prefer for missing log_cost\n",
        "        \n",
        "    return df\n",
        "    \n"
      ]
    },
    {
      "cell_type": "markdown",
      "metadata": {
        "id": "hPkesxABbufv"
      },
      "source": [
        "## Chia dữ liệu\n",
        "\n",
        "Dòng mã này thực hiện quá trình tiền xử lý dữ liệu bằng cách gọi hàm preprocess(df) đã được định nghĩa trước đó và sau đó chia tập dữ liệu thành tập huấn luyện và tập kiểm tra bằng cách sử dụng train_test_split từ scikit-learn.\n",
        "1. train_test_split: Chia dữ liệu thành tập huấn luyện và tập kiểm tra.\n",
        "2. train_data[most_important_features]: Chọn chỉ các đặc trưng quan trọng từ tập dữ liệu đã được tiền xử lý.\n",
        "3. train_data[\"log_cost\"]: Chọn biến mục tiêu (logarithm của chi phí).\n",
        "test_size=0.2: Chia dữ liệu thành 80% tập huấn luyện và 20% tập kiểm tra.\n",
        "4. random_state=2022: Cung cấp một số ngẫu nhiên để đảm bảo sự tái tái tạo của quá trình chia dữ liệu."
      ]
    },
    {
      "cell_type": "code",
      "execution_count": null,
      "metadata": {
        "execution": {
          "iopub.execute_input": "2023-10-06T05:00:53.482798Z",
          "iopub.status.busy": "2023-10-06T05:00:53.482367Z",
          "iopub.status.idle": "2023-10-06T05:00:53.673076Z",
          "shell.execute_reply": "2023-10-06T05:00:53.671350Z",
          "shell.execute_reply.started": "2023-10-06T05:00:53.482768Z"
        },
        "id": "WrjjqDt-x9YU",
        "trusted": true
      },
      "outputs": [],
      "source": [
        "train_data = preprocess(train)\n",
        "X_train, X_test, y_train, y_test = train_test_split(train_data[most_important_features], train_data[\"log_cost\"], test_size=0.2, random_state=2022)"
      ]
    },
    {
      "cell_type": "markdown",
      "metadata": {
        "id": "vWDun8DqcX5z"
      },
      "source": [
        "## Config mô hình\n",
        "1. n_estimators: Số lượng cây trong mô hình.\n",
        "2. learning_rate: Tỉ lệ học của mô hình.\n",
        "3. max_depth: Độ sâu tối đa của mỗi cây.\n",
        "4. subsample: Tỉ lệ mẫu được sử dụng để đào tạo mỗi cây.\n",
        "5. colsample_bytree: Tỉ lệ số cột được sử dụng để đào tạo mỗi cây.\n",
        "6. tree_method: Phương pháp xây dựng cây, trong trường hợp này là 'hist' để sử dụng histogram-based method.\n",
        "7. enable_categorical: Cho phép xử lý biến hạng mục.\n",
        "8. verbosity: Mức độ chi tiết của quá trình đào tạo (1 là thông thường).\n",
        "9. min_child_weight: Trọng số tối thiểu của mỗi lá cây.\n",
        "10. base_score: Giá trị dự đoán ban đầu của tất cả các mẫu.\n",
        "11. random_state: Seed cho các phép toán ngẫu nhiên, đảm bảo tái tái tạo."
      ]
    },
    {
      "cell_type": "code",
      "execution_count": null,
      "metadata": {
        "colab": {
          "base_uri": "https://localhost:8080/",
          "height": 248
        },
        "execution": {
          "iopub.execute_input": "2023-10-01T08:33:32.186902Z",
          "iopub.status.busy": "2023-10-01T08:33:32.186642Z",
          "iopub.status.idle": "2023-10-01T08:33:42.136685Z",
          "shell.execute_reply": "2023-10-01T08:33:42.135570Z",
          "shell.execute_reply.started": "2023-10-01T08:33:32.186877Z"
        },
        "id": "UskPk3XWx9YU",
        "outputId": "ea7058e1-c791-4f49-cd51-866c1716f13e",
        "trusted": true
      },
      "outputs": [
        {
          "data": {
            "text/html": [
              "<style>#sk-container-id-1 {color: black;background-color: white;}#sk-container-id-1 pre{padding: 0;}#sk-container-id-1 div.sk-toggleable {background-color: white;}#sk-container-id-1 label.sk-toggleable__label {cursor: pointer;display: block;width: 100%;margin-bottom: 0;padding: 0.3em;box-sizing: border-box;text-align: center;}#sk-container-id-1 label.sk-toggleable__label-arrow:before {content: \"▸\";float: left;margin-right: 0.25em;color: #696969;}#sk-container-id-1 label.sk-toggleable__label-arrow:hover:before {color: black;}#sk-container-id-1 div.sk-estimator:hover label.sk-toggleable__label-arrow:before {color: black;}#sk-container-id-1 div.sk-toggleable__content {max-height: 0;max-width: 0;overflow: hidden;text-align: left;background-color: #f0f8ff;}#sk-container-id-1 div.sk-toggleable__content pre {margin: 0.2em;color: black;border-radius: 0.25em;background-color: #f0f8ff;}#sk-container-id-1 input.sk-toggleable__control:checked~div.sk-toggleable__content {max-height: 200px;max-width: 100%;overflow: auto;}#sk-container-id-1 input.sk-toggleable__control:checked~label.sk-toggleable__label-arrow:before {content: \"▾\";}#sk-container-id-1 div.sk-estimator input.sk-toggleable__control:checked~label.sk-toggleable__label {background-color: #d4ebff;}#sk-container-id-1 div.sk-label input.sk-toggleable__control:checked~label.sk-toggleable__label {background-color: #d4ebff;}#sk-container-id-1 input.sk-hidden--visually {border: 0;clip: rect(1px 1px 1px 1px);clip: rect(1px, 1px, 1px, 1px);height: 1px;margin: -1px;overflow: hidden;padding: 0;position: absolute;width: 1px;}#sk-container-id-1 div.sk-estimator {font-family: monospace;background-color: #f0f8ff;border: 1px dotted black;border-radius: 0.25em;box-sizing: border-box;margin-bottom: 0.5em;}#sk-container-id-1 div.sk-estimator:hover {background-color: #d4ebff;}#sk-container-id-1 div.sk-parallel-item::after {content: \"\";width: 100%;border-bottom: 1px solid gray;flex-grow: 1;}#sk-container-id-1 div.sk-label:hover label.sk-toggleable__label {background-color: #d4ebff;}#sk-container-id-1 div.sk-serial::before {content: \"\";position: absolute;border-left: 1px solid gray;box-sizing: border-box;top: 0;bottom: 0;left: 50%;z-index: 0;}#sk-container-id-1 div.sk-serial {display: flex;flex-direction: column;align-items: center;background-color: white;padding-right: 0.2em;padding-left: 0.2em;position: relative;}#sk-container-id-1 div.sk-item {position: relative;z-index: 1;}#sk-container-id-1 div.sk-parallel {display: flex;align-items: stretch;justify-content: center;background-color: white;position: relative;}#sk-container-id-1 div.sk-item::before, #sk-container-id-1 div.sk-parallel-item::before {content: \"\";position: absolute;border-left: 1px solid gray;box-sizing: border-box;top: 0;bottom: 0;left: 50%;z-index: -1;}#sk-container-id-1 div.sk-parallel-item {display: flex;flex-direction: column;z-index: 1;position: relative;background-color: white;}#sk-container-id-1 div.sk-parallel-item:first-child::after {align-self: flex-end;width: 50%;}#sk-container-id-1 div.sk-parallel-item:last-child::after {align-self: flex-start;width: 50%;}#sk-container-id-1 div.sk-parallel-item:only-child::after {width: 0;}#sk-container-id-1 div.sk-dashed-wrapped {border: 1px dashed gray;margin: 0 0.4em 0.5em 0.4em;box-sizing: border-box;padding-bottom: 0.4em;background-color: white;}#sk-container-id-1 div.sk-label label {font-family: monospace;font-weight: bold;display: inline-block;line-height: 1.2em;}#sk-container-id-1 div.sk-label-container {text-align: center;}#sk-container-id-1 div.sk-container {/* jupyter's `normalize.less` sets `[hidden] { display: none; }` but bootstrap.min.css set `[hidden] { display: none !important; }` so we also need the `!important` here to be able to override the default hidden behavior on the sphinx rendered scikit-learn.org. See: https://github.com/scikit-learn/scikit-learn/issues/21755 */display: inline-block !important;position: relative;}#sk-container-id-1 div.sk-text-repr-fallback {display: none;}</style><div id=\"sk-container-id-1\" class=\"sk-top-container\"><div class=\"sk-text-repr-fallback\"><pre>XGBRegressor(base_score=4.6, booster=None, callbacks=None,\n",
              "             colsample_bylevel=None, colsample_bynode=None,\n",
              "             colsample_bytree=1.0, device=None, early_stopping_rounds=None,\n",
              "             enable_categorical=True, eval_metric=None, feature_types=None,\n",
              "             gamma=None, grow_policy=None, importance_type=None,\n",
              "             interaction_constraints=None, learning_rate=0.05, max_bin=None,\n",
              "             max_cat_threshold=None, max_cat_to_onehot=None,\n",
              "             max_delta_step=None, max_depth=10, max_leaves=None,\n",
              "             min_child_weight=3, missing=nan, monotone_constraints=None,\n",
              "             multi_strategy=None, n_estimators=280, n_jobs=None,\n",
              "             num_parallel_tree=None, random_state=2023, ...)</pre><b>In a Jupyter environment, please rerun this cell to show the HTML representation or trust the notebook. <br />On GitHub, the HTML representation is unable to render, please try loading this page with nbviewer.org.</b></div><div class=\"sk-container\" hidden><div class=\"sk-item\"><div class=\"sk-estimator sk-toggleable\"><input class=\"sk-toggleable__control sk-hidden--visually\" id=\"sk-estimator-id-1\" type=\"checkbox\" checked><label for=\"sk-estimator-id-1\" class=\"sk-toggleable__label sk-toggleable__label-arrow\">XGBRegressor</label><div class=\"sk-toggleable__content\"><pre>XGBRegressor(base_score=4.6, booster=None, callbacks=None,\n",
              "             colsample_bylevel=None, colsample_bynode=None,\n",
              "             colsample_bytree=1.0, device=None, early_stopping_rounds=None,\n",
              "             enable_categorical=True, eval_metric=None, feature_types=None,\n",
              "             gamma=None, grow_policy=None, importance_type=None,\n",
              "             interaction_constraints=None, learning_rate=0.05, max_bin=None,\n",
              "             max_cat_threshold=None, max_cat_to_onehot=None,\n",
              "             max_delta_step=None, max_depth=10, max_leaves=None,\n",
              "             min_child_weight=3, missing=nan, monotone_constraints=None,\n",
              "             multi_strategy=None, n_estimators=280, n_jobs=None,\n",
              "             num_parallel_tree=None, random_state=2023, ...)</pre></div></div></div></div></div>"
            ],
            "text/plain": [
              "XGBRegressor(base_score=4.6, booster=None, callbacks=None,\n",
              "             colsample_bylevel=None, colsample_bynode=None,\n",
              "             colsample_bytree=1.0, device=None, early_stopping_rounds=None,\n",
              "             enable_categorical=True, eval_metric=None, feature_types=None,\n",
              "             gamma=None, grow_policy=None, importance_type=None,\n",
              "             interaction_constraints=None, learning_rate=0.05, max_bin=None,\n",
              "             max_cat_threshold=None, max_cat_to_onehot=None,\n",
              "             max_delta_step=None, max_depth=10, max_leaves=None,\n",
              "             min_child_weight=3, missing=nan, monotone_constraints=None,\n",
              "             multi_strategy=None, n_estimators=280, n_jobs=None,\n",
              "             num_parallel_tree=None, random_state=2023, ...)"
            ]
          },
          "execution_count": 12,
          "metadata": {},
          "output_type": "execute_result"
        }
      ],
      "source": [
        "xgb_params = {'n_estimators': 280,\n",
        "              'learning_rate': 0.05,\n",
        "              'max_depth': 10,\n",
        "              'subsample': 1.0,\n",
        "              'colsample_bytree': 1.0,\n",
        "              'tree_method': 'hist',\n",
        "              'enable_categorical': True,\n",
        "              'verbosity': 1,\n",
        "              'min_child_weight': 3,\n",
        "              'base_score': 4.6,\n",
        "              'random_state': 2023}\n",
        "# Tạo một đối tượng mô hình XGBRegressor với các tham số được định nghĩa trong xgb_params.\n",
        "model = xgb.XGBRegressor(**xgb_params)\n",
        "# Huấn luyện mô hình trên tập dữ liệu huấn luyện X_train với biến mục tiêu y_train.\n",
        "model.fit(X_train, y_train)"
      ]
    },
    {
      "cell_type": "markdown",
      "metadata": {
        "id": "h2NTxTZxdKy4"
      },
      "source": [
        "## Đánh giá hiệu xuất mô hình\n",
        "Dòng mã này sử dụng mô hình đã được đào tạo để thực hiện dự đoán trên tập kiểm tra và đánh giá hiệu suất của mô hình bằng cách tính Root Mean Squared Error (RMSE).\n",
        "1. model.predict(X_test): Sử dụng mô hình để dự đoán giá trị trên tập dữ liệu kiểm tra X_test.\n",
        "2. mean_squared_error(y_test, y_pred, squared=False): Tính toán Root Mean Squared Error (RMSE) giữa giá trị thực tế y_test và giá trị dự đoán y_pred.\n",
        "squared=False: Đảm bảo rằng hàm mean_squared_error trả về giá trị RMSE thay vì MSE.\n",
        "3. Hiển thị giá trị RMSE đã tính được cho mô hình XGBoost trên tập kiểm tra.\n",
        "Kết quả RMSE là một phép đo đánh giá độ chính xác của mô hình trên tập kiểm tra, trong đó giá trị càng thấp càng tốt."
      ]
    },
    {
      "cell_type": "code",
      "execution_count": null,
      "metadata": {
        "colab": {
          "base_uri": "https://localhost:8080/"
        },
        "execution": {
          "iopub.execute_input": "2023-10-01T08:33:42.138841Z",
          "iopub.status.busy": "2023-10-01T08:33:42.138016Z",
          "iopub.status.idle": "2023-10-01T08:33:42.977306Z",
          "shell.execute_reply": "2023-10-01T08:33:42.976246Z",
          "shell.execute_reply.started": "2023-10-01T08:33:42.138801Z"
        },
        "id": "3_fZdZAax9YU",
        "outputId": "1b3a2dc0-1f57-400a-bde4-8287d9b32d13",
        "trusted": true
      },
      "outputs": [
        {
          "name": "stdout",
          "output_type": "stream",
          "text": [
            "Root Mean Squared Error for XGBoost: 0.31\n"
          ]
        }
      ],
      "source": [
        "y_pred = model.predict(X_test)\n",
        "\n",
        "\n",
        "mse = mean_squared_error(y_test, y_pred, squared=False)\n",
        "print(f\"Root Mean Squared Error for XGBoost: {mse:.2f}\")"
      ]
    },
    {
      "cell_type": "markdown",
      "metadata": {
        "id": "zsgvWt1ddgeF"
      },
      "source": [
        "Dòng mã này tạo và đào tạo một mô hình RandomForestRegressor với các tham số được định nghĩa trong rf_params và sau đó đánh giá hiệu suất của mô hình trên tập kiểm tra bằng cách tính Root Mean Squared Error (RMSE)."
      ]
    },
    {
      "cell_type": "markdown",
      "metadata": {},
      "source": [
        "\n",
        "### Formula for Prediction (Regression Task):\n",
        "\n",
        "Đối với một vectơ đặc trưng đầu vào $X$, dự đoán $Y_{\\text{pred}}$ được lấy bằng cách tìm tổng trung bình của tất cả dự đoán\n",
        "\n",
        "$$Y_{\\text{pred}} = \\frac{1}{N} \\sum_{i=1}^{N} Y_{i} $$\n",
        "\n",
        "- $N$: số cây\n",
        "- $Y_{i}$: kết quả của $i$-th tree.\n"
      ]
    },
    {
      "cell_type": "code",
      "execution_count": null,
      "metadata": {
        "colab": {
          "base_uri": "https://localhost:8080/"
        },
        "execution": {
          "iopub.execute_input": "2023-10-01T08:33:42.978972Z",
          "iopub.status.busy": "2023-10-01T08:33:42.978581Z",
          "iopub.status.idle": "2023-10-01T08:33:42.984078Z",
          "shell.execute_reply": "2023-10-01T08:33:42.982669Z",
          "shell.execute_reply.started": "2023-10-01T08:33:42.978934Z"
        },
        "id": "maaUVGYgx9YU",
        "outputId": "dd51d008-a37e-4b4b-faeb-0cf678bbf76c",
        "trusted": true
      },
      "outputs": [
        {
          "name": "stdout",
          "output_type": "stream",
          "text": [
            "Mean Squared Error for rf: 0.31\n"
          ]
        }
      ],
      "source": [
        "\n",
        "# RandomForestRegressor\n",
        "rf_params = {\n",
        "    'n_estimators': 100,\n",
        "    'max_depth': 10,\n",
        "    'random_state': 2023\n",
        "}\n",
        "\n",
        "rf_model = RandomForestRegressor(**rf_params)\n",
        "rf_model.fit(X_train, y_train)\n",
        "\n",
        "y_pred_rf = rf_model.predict(X_test)\n",
        "\n",
        "mse = mean_squared_error(y_test, y_pred_rf, squared=False)\n",
        "print(f\"Mean Squared Error for rf: {mse:.2f}\")\n"
      ]
    },
    {
      "cell_type": "markdown",
      "metadata": {
        "id": "0b5yfXkTeFlt"
      },
      "source": [
        "Dòng mã này tạo và đào tạo một mô hình GradientBoostingRegressor với các tham số được định nghĩa trong gb_params và sau đó đánh giá hiệu suất của mô hình trên tập kiểm tra bằng cách tính Root Mean Squared Error (RMSE)."
      ]
    },
    {
      "cell_type": "code",
      "execution_count": null,
      "metadata": {
        "colab": {
          "base_uri": "https://localhost:8080/"
        },
        "execution": {
          "iopub.execute_input": "2023-10-06T05:02:19.649913Z",
          "iopub.status.busy": "2023-10-06T05:02:19.649519Z",
          "iopub.status.idle": "2023-10-06T05:02:51.932349Z",
          "shell.execute_reply": "2023-10-06T05:02:51.930845Z",
          "shell.execute_reply.started": "2023-10-06T05:02:19.649880Z"
        },
        "id": "aMMbhQzWx9YU",
        "outputId": "24cbbfc0-2632-4575-c42c-98f34cc82830",
        "trusted": true
      },
      "outputs": [
        {
          "name": "stdout",
          "output_type": "stream",
          "text": [
            "Mean Squared Error for gb: 0.31\n"
          ]
        }
      ],
      "source": [
        "# GradientBoostingRegressor\n",
        "gb_params = {\n",
        "    'n_estimators': 100,\n",
        "    'learning_rate': 0.1,\n",
        "    'max_depth': 5,\n",
        "    'random_state': 2023\n",
        "}\n",
        "\n",
        "gb_model = GradientBoostingRegressor(**gb_params)\n",
        "gb_model.fit(X_train, y_train)\n",
        "\n",
        "y_pred_gb = gb_model.predict(X_test)\n",
        "\n",
        "mse = mean_squared_error(y_test, y_pred_gb, squared=False)\n",
        "print(f\"Mean Squared Error for gb: {mse:.2f}\")"
      ]
    },
    {
      "cell_type": "markdown",
      "metadata": {
        "id": "NFTbQTboeaLD"
      },
      "source": [
        "Hàm preprocessTest(df) được định nghĩa để tiền xử lý dữ liệu trên tập kiểm tra (hoặc dữ liệu mới) tương tự như hàm preprocess(df) đã được đề cập trước đó."
      ]
    },
    {
      "cell_type": "code",
      "execution_count": null,
      "metadata": {
        "execution": {
          "iopub.execute_input": "2023-10-06T05:03:01.834463Z",
          "iopub.status.busy": "2023-10-06T05:03:01.833890Z",
          "iopub.status.idle": "2023-10-06T05:03:01.843644Z",
          "shell.execute_reply": "2023-10-06T05:03:01.841741Z",
          "shell.execute_reply.started": "2023-10-06T05:03:01.834409Z"
        },
        "id": "9I5XHBzdx9YV",
        "trusted": true
      },
      "outputs": [],
      "source": [
        "def preprocessTest(df):\n",
        "    df = df.copy()\n",
        "    df['store_sqft'] = df['store_sqft'].astype('category')\n",
        "    df['salad'] = (df['salad_bar'] + df['prepared_food']) / 2\n",
        "    return df"
      ]
    },
    {
      "cell_type": "markdown",
      "metadata": {
        "id": "jab8pCrfepb6"
      },
      "source": [
        "Dòng mã này sử dụng hàm preprocessTest để tiền xử lý dữ liệu trên tập kiểm tra (biến test) và sau đó sử dụng mô hình RandomForestRegressor đã được đào tạo (rf_model) để dự đoán giá trị trên tập kiểm tra."
      ]
    },
    {
      "cell_type": "code",
      "execution_count": null,
      "metadata": {
        "execution": {
          "iopub.execute_input": "2023-10-06T05:03:03.783328Z",
          "iopub.status.busy": "2023-10-06T05:03:03.782398Z",
          "iopub.status.idle": "2023-10-06T05:03:04.615385Z",
          "shell.execute_reply": "2023-10-06T05:03:04.614321Z",
          "shell.execute_reply.started": "2023-10-06T05:03:03.783293Z"
        },
        "id": "Wys94NOjx9YV",
        "trusted": true
      },
      "outputs": [],
      "source": [
        "test_data = preprocessTest(test)\n",
        "y_pred_test = model.predict(test_data[most_important_features])"
      ]
    },
    {
      "cell_type": "markdown",
      "metadata": {
        "id": "QZqmXFl7e8Q5"
      },
      "source": [
        "Dòng mã này tạo một Series pandas mới (cost) chứa giá trị dự đoán (y_pred_test) và sau đó thêm cột 'cost' vào DataFrame test_data sau khi chuyển đổi giá trị dự đoán về dạng gốc bằng hàm np.expm1"
      ]
    },
    {
      "cell_type": "code",
      "execution_count": null,
      "metadata": {
        "colab": {
          "base_uri": "https://localhost:8080/",
          "height": 244
        },
        "execution": {
          "iopub.execute_input": "2023-10-06T05:03:06.205793Z",
          "iopub.status.busy": "2023-10-06T05:03:06.205470Z",
          "iopub.status.idle": "2023-10-06T05:03:06.234096Z",
          "shell.execute_reply": "2023-10-06T05:03:06.233044Z",
          "shell.execute_reply.started": "2023-10-06T05:03:06.205767Z"
        },
        "id": "k7DJ5CpCx9YV",
        "outputId": "1601f4f5-809b-44a2-8472-dbdcc7d36540",
        "trusted": true
      },
      "outputs": [
        {
          "data": {
            "text/html": [
              "<div>\n",
              "<style scoped>\n",
              "    .dataframe tbody tr th:only-of-type {\n",
              "        vertical-align: middle;\n",
              "    }\n",
              "\n",
              "    .dataframe tbody tr th {\n",
              "        vertical-align: top;\n",
              "    }\n",
              "\n",
              "    .dataframe thead th {\n",
              "        text-align: right;\n",
              "    }\n",
              "</style>\n",
              "<table border=\"1\" class=\"dataframe\">\n",
              "  <thead>\n",
              "    <tr style=\"text-align: right;\">\n",
              "      <th></th>\n",
              "      <th>id</th>\n",
              "      <th>store_sales(in millions)</th>\n",
              "      <th>unit_sales(in millions)</th>\n",
              "      <th>total_children</th>\n",
              "      <th>num_children_at_home</th>\n",
              "      <th>avg_cars_at home(approx).1</th>\n",
              "      <th>gross_weight</th>\n",
              "      <th>recyclable_package</th>\n",
              "      <th>low_fat</th>\n",
              "      <th>units_per_case</th>\n",
              "      <th>store_sqft</th>\n",
              "      <th>coffee_bar</th>\n",
              "      <th>video_store</th>\n",
              "      <th>salad_bar</th>\n",
              "      <th>prepared_food</th>\n",
              "      <th>florist</th>\n",
              "      <th>salad</th>\n",
              "      <th>cost</th>\n",
              "    </tr>\n",
              "  </thead>\n",
              "  <tbody>\n",
              "    <tr>\n",
              "      <th>0</th>\n",
              "      <td>1</td>\n",
              "      <td>2.65</td>\n",
              "      <td>5.0</td>\n",
              "      <td>4.0</td>\n",
              "      <td>1.0</td>\n",
              "      <td>4.0</td>\n",
              "      <td>6.89</td>\n",
              "      <td>0.0</td>\n",
              "      <td>1.0</td>\n",
              "      <td>5.0</td>\n",
              "      <td>33858.0</td>\n",
              "      <td>1.0</td>\n",
              "      <td>0.0</td>\n",
              "      <td>1.0</td>\n",
              "      <td>1.0</td>\n",
              "      <td>1.0</td>\n",
              "      <td>1.0</td>\n",
              "      <td>92.845367</td>\n",
              "    </tr>\n",
              "    <tr>\n",
              "      <th>1</th>\n",
              "      <td>2</td>\n",
              "      <td>8.34</td>\n",
              "      <td>3.0</td>\n",
              "      <td>0.0</td>\n",
              "      <td>0.0</td>\n",
              "      <td>1.0</td>\n",
              "      <td>9.71</td>\n",
              "      <td>1.0</td>\n",
              "      <td>1.0</td>\n",
              "      <td>28.0</td>\n",
              "      <td>20319.0</td>\n",
              "      <td>0.0</td>\n",
              "      <td>0.0</td>\n",
              "      <td>0.0</td>\n",
              "      <td>0.0</td>\n",
              "      <td>0.0</td>\n",
              "      <td>0.0</td>\n",
              "      <td>102.899002</td>\n",
              "    </tr>\n",
              "    <tr>\n",
              "      <th>2</th>\n",
              "      <td>3</td>\n",
              "      <td>3.54</td>\n",
              "      <td>2.0</td>\n",
              "      <td>4.0</td>\n",
              "      <td>0.0</td>\n",
              "      <td>2.0</td>\n",
              "      <td>20.90</td>\n",
              "      <td>1.0</td>\n",
              "      <td>0.0</td>\n",
              "      <td>15.0</td>\n",
              "      <td>30797.0</td>\n",
              "      <td>1.0</td>\n",
              "      <td>1.0</td>\n",
              "      <td>1.0</td>\n",
              "      <td>1.0</td>\n",
              "      <td>1.0</td>\n",
              "      <td>1.0</td>\n",
              "      <td>86.913734</td>\n",
              "    </tr>\n",
              "    <tr>\n",
              "      <th>3</th>\n",
              "      <td>4</td>\n",
              "      <td>5.60</td>\n",
              "      <td>2.0</td>\n",
              "      <td>3.0</td>\n",
              "      <td>2.0</td>\n",
              "      <td>2.0</td>\n",
              "      <td>11.00</td>\n",
              "      <td>1.0</td>\n",
              "      <td>0.0</td>\n",
              "      <td>33.0</td>\n",
              "      <td>20319.0</td>\n",
              "      <td>0.0</td>\n",
              "      <td>0.0</td>\n",
              "      <td>0.0</td>\n",
              "      <td>0.0</td>\n",
              "      <td>0.0</td>\n",
              "      <td>0.0</td>\n",
              "      <td>98.484589</td>\n",
              "    </tr>\n",
              "    <tr>\n",
              "      <th>4</th>\n",
              "      <td>5</td>\n",
              "      <td>4.80</td>\n",
              "      <td>3.0</td>\n",
              "      <td>2.0</td>\n",
              "      <td>0.0</td>\n",
              "      <td>4.0</td>\n",
              "      <td>17.40</td>\n",
              "      <td>1.0</td>\n",
              "      <td>0.0</td>\n",
              "      <td>36.0</td>\n",
              "      <td>30268.0</td>\n",
              "      <td>0.0</td>\n",
              "      <td>0.0</td>\n",
              "      <td>0.0</td>\n",
              "      <td>0.0</td>\n",
              "      <td>0.0</td>\n",
              "      <td>0.0</td>\n",
              "      <td>81.539200</td>\n",
              "    </tr>\n",
              "  </tbody>\n",
              "</table>\n",
              "</div>"
            ],
            "text/plain": [
              "   id  store_sales(in millions)  unit_sales(in millions)  total_children  \\\n",
              "0   1                      2.65                      5.0             4.0   \n",
              "1   2                      8.34                      3.0             0.0   \n",
              "2   3                      3.54                      2.0             4.0   \n",
              "3   4                      5.60                      2.0             3.0   \n",
              "4   5                      4.80                      3.0             2.0   \n",
              "\n",
              "   num_children_at_home  avg_cars_at home(approx).1  gross_weight  \\\n",
              "0                   1.0                         4.0          6.89   \n",
              "1                   0.0                         1.0          9.71   \n",
              "2                   0.0                         2.0         20.90   \n",
              "3                   2.0                         2.0         11.00   \n",
              "4                   0.0                         4.0         17.40   \n",
              "\n",
              "   recyclable_package  low_fat  units_per_case store_sqft  coffee_bar  \\\n",
              "0                 0.0      1.0             5.0    33858.0         1.0   \n",
              "1                 1.0      1.0            28.0    20319.0         0.0   \n",
              "2                 1.0      0.0            15.0    30797.0         1.0   \n",
              "3                 1.0      0.0            33.0    20319.0         0.0   \n",
              "4                 1.0      0.0            36.0    30268.0         0.0   \n",
              "\n",
              "   video_store  salad_bar  prepared_food  florist  salad        cost  \n",
              "0          0.0        1.0            1.0      1.0    1.0   92.845367  \n",
              "1          0.0        0.0            0.0      0.0    0.0  102.899002  \n",
              "2          1.0        1.0            1.0      1.0    1.0   86.913734  \n",
              "3          0.0        0.0            0.0      0.0    0.0   98.484589  \n",
              "4          0.0        0.0            0.0      0.0    0.0   81.539200  "
            ]
          },
          "execution_count": 18,
          "metadata": {},
          "output_type": "execute_result"
        }
      ],
      "source": [
        "cost = pd.Series(y_pred_test, name='cost')\n",
        "test_data['cost'] = np.expm1(y_pred_test)\n",
        "test_data.head()"
      ]
    },
    {
      "cell_type": "code",
      "execution_count": null,
      "metadata": {},
      "outputs": [],
      "source": []
    },
    {
      "cell_type": "code",
      "execution_count": null,
      "metadata": {},
      "outputs": [
        {
          "data": {
            "text/plain": [
              "0          1\n",
              "1          2\n",
              "2          3\n",
              "3          4\n",
              "4          5\n",
              "        ... \n",
              "9060    9061\n",
              "9061    9062\n",
              "9062    9063\n",
              "9063    9064\n",
              "9064    9065\n",
              "Name: id, Length: 9065, dtype: int64"
            ]
          },
          "execution_count": 19,
          "metadata": {},
          "output_type": "execute_result"
        }
      ],
      "source": [
        "test_data['id']"
      ]
    },
    {
      "cell_type": "code",
      "execution_count": null,
      "metadata": {
        "execution": {
          "iopub.execute_input": "2023-10-06T05:03:51.342883Z",
          "iopub.status.busy": "2023-10-06T05:03:51.342071Z",
          "iopub.status.idle": "2023-10-06T05:03:52.011814Z",
          "shell.execute_reply": "2023-10-06T05:03:52.010451Z",
          "shell.execute_reply.started": "2023-10-06T05:03:51.342839Z"
        },
        "id": "ZnaPaj4xx9YV",
        "trusted": true
      },
      "outputs": [],
      "source": [
        "file_path = 'XBGBoostingRegressor.csv'\n",
        "# file_path = 'Result_GradientBoostingRegressor.csv'\n",
        "# file_path = 'Result_RandomeForestRegressor.csv'\n",
        "test_data[['id', 'cost']].to_csv(file_path, index=False)  # Set index=False to exclude the index column"
      ]
    },
    {
      "cell_type": "code",
      "execution_count": null,
      "metadata": {},
      "outputs": [],
      "source": []
    },
    {
      "cell_type": "code",
      "execution_count": null,
      "metadata": {
        "id": "nARZQzcjx9YV"
      },
      "outputs": [],
      "source": []
    }
  ],
  "metadata": {
    "colab": {
      "provenance": []
    },
    "kernelspec": {
      "display_name": "Python 3",
      "language": "python",
      "name": "python3"
    },
    "language_info": {
      "codemirror_mode": {
        "name": "ipython",
        "version": 3
      },
      "file_extension": ".py",
      "mimetype": "text/x-python",
      "name": "python",
      "nbconvert_exporter": "python",
      "pygments_lexer": "ipython3",
      "version": "3.11.8"
    }
  },
  "nbformat": 4,
  "nbformat_minor": 0
}
